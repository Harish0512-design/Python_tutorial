{
 "cells": [
  {
   "cell_type": "markdown",
   "metadata": {},
   "source": [
    "# Variables"
   ]
  },
  {
   "cell_type": "code",
   "execution_count": 50,
   "metadata": {},
   "outputs": [
    {
     "name": "stdout",
     "output_type": "stream",
     "text": [
      "Name: Harish\n",
      "Age: 23\n",
      "is male: True\n",
      "Height: 5.8\n",
      "complex_number: (3+8j)\n"
     ]
    },
    {
     "data": {
      "text/plain": [
       "str"
      ]
     },
     "execution_count": 50,
     "metadata": {},
     "output_type": "execute_result"
    }
   ],
   "source": [
    "name = \"Harish\"\n",
    "Name = 'Harish'\n",
    "age = 23\n",
    "is_male = True\n",
    "height = 5.8\n",
    "complex_number = 3+8j\n",
    "\n",
    "print(\"Name:\",name)\n",
    "print(\"Age:\",age)\n",
    "print(\"is male:\",is_male)\n",
    "print(\"Height:\",height)\n",
    "print(\"complex_number:\",complex_number)\n",
    "type(name)"
   ]
  },
  {
   "cell_type": "markdown",
   "metadata": {},
   "source": [
    "# Type Casting"
   ]
  },
  {
   "cell_type": "code",
   "execution_count": 53,
   "metadata": {},
   "outputs": [
    {
     "name": "stdout",
     "output_type": "stream",
     "text": [
      "<class 'str'>\n",
      "<class 'int'>\n",
      "<class 'float'>\n",
      "23 Harish 5.9\n",
      "23 5 23.0\n"
     ]
    }
   ],
   "source": [
    "age = 23\n",
    "name = \"Harish\"\n",
    "height = 5.9\n",
    "\n",
    "# print(type(age))\n",
    "# print(type(name))\n",
    "# print(type(height))\n",
    "\n",
    "# after conversion\n",
    "\n",
    "# str(), int(), float()\n",
    "\n",
    "conv_age = str(age)\n",
    "conv_height = int(height)\n",
    "conv_age_to_float = float(age)\n",
    "\n",
    "print(type(conv_age))\n",
    "print(type(conv_height))\n",
    "print(type(conv_age_to_float))\n",
    "# print(type(str(height)))\n",
    "\n",
    "# # values\n",
    "\n",
    "print(age,name,height)\n",
    "print(conv_age,conv_height,conv_age_to_float)"
   ]
  },
  {
   "cell_type": "markdown",
   "metadata": {},
   "source": [
    "# input() function"
   ]
  },
  {
   "cell_type": "code",
   "execution_count": 60,
   "metadata": {},
   "outputs": [
    {
     "name": "stdout",
     "output_type": "stream",
     "text": [
      "Enter your name: harish\n",
      "Enter your age: 23\n",
      "harish 's age is  23\n"
     ]
    }
   ],
   "source": [
    "name = input(\"Enter your name: \")\n",
    "# type(name)\n",
    "age = int(input(\"Enter your age: \"))\n",
    "# type(age)\n",
    "print(name,\"\\'s age is \",age)"
   ]
  },
  {
   "cell_type": "code",
   "execution_count": null,
   "metadata": {},
   "outputs": [],
   "source": [
    "# single line cmt\n",
    "\n",
    "'''\n",
    "hi\n",
    "all \n",
    "hw r u\n",
    "multiline comments\n",
    "'''\n"
   ]
  },
  {
   "cell_type": "markdown",
   "metadata": {},
   "source": [
    "# Escape sequences"
   ]
  },
  {
   "cell_type": "code",
   "execution_count": 37,
   "metadata": {
    "scrolled": true
   },
   "outputs": [],
   "source": [
    "# \\' , \\\\ , \\n , \\t\n",
    "\n",
    "# new_line = \"Hello gud mrng!\\nIs there anyone in home.\"\n",
    "# tab_space = \"Hi all \\t this is Harish!\"\n",
    "# back_slash = \"use double backslash to get backslash in string \\\\\"\n",
    "# single_quote = 'There\\'s home'\n",
    "# double_quote = \"Hello everyone! she said \\\" don\\'t smoke \\\"\"\n",
    "\n",
    "# print(new_line)\n",
    "# print(tab_space)\n",
    "# print(back_slash)\n",
    "# print(single_quote)\n",
    "# print(double_quote)\n"
   ]
  },
  {
   "cell_type": "markdown",
   "metadata": {},
   "source": [
    "# Operators\n",
    "1.Arithmetic operators\n",
    "\n",
    "2.Relational Operators or comparision operators\n",
    "\n",
    "3.Logical Operators\n",
    "\n",
    "4.Assignment operators\n"
   ]
  },
  {
   "cell_type": "markdown",
   "metadata": {},
   "source": [
    "\n",
    "# Arithmetic Operators"
   ]
  },
  {
   "cell_type": "code",
   "execution_count": 69,
   "metadata": {},
   "outputs": [
    {
     "name": "stdout",
     "output_type": "stream",
     "text": [
      "enter first number:\n",
      "4\n",
      "enter second number:\n",
      "3\n",
      "Modulus:\n",
      " 1\n"
     ]
    }
   ],
   "source": [
    "num1 = int(input('enter first number:\\n'))\n",
    "num2 = int(input('enter second number:\\n'))\n",
    "# addition = num1 + num2\n",
    "# substraction = num1 - num2\n",
    "# multiplication = num1 * num2\n",
    "# division = num1 / num2\n",
    "# floor_division = num1 // num2\n",
    "# exponential = num1 ** 4     \n",
    "remainder = num1 % num2\n",
    "\n",
    "# print('Addition\\n',addition)\n",
    "# print('Substraction\\n',substraction)\n",
    "# print('Multiplication\\n',multiplication)\n",
    "# print('Division\\n',division)\n",
    "# print('floor division\\n',floor_division)\n",
    "# print('Exponential\\n',exponential)\n",
    "print('Modulus:\\n',remainder)"
   ]
  },
  {
   "cell_type": "markdown",
   "metadata": {},
   "source": [
    "# Relational Operators\n"
   ]
  },
  {
   "cell_type": "code",
   "execution_count": 77,
   "metadata": {},
   "outputs": [],
   "source": [
    "# a = 20\n",
    "# b = 20\n",
    "# print(\"a>b is\",a>b)\n",
    "# print(\"a<b is\",a<b)\n",
    "# print(\"a==b is\",a==b)\n",
    "# print(\"a!=b is\",a!=b)\n",
    "# print(\"a<=b is\",a<=b)\n",
    "# print(\"a>=b is\",a>=b)\n",
    "\n"
   ]
  },
  {
   "cell_type": "markdown",
   "metadata": {},
   "source": [
    "# Assignment Operators"
   ]
  },
  {
   "cell_type": "code",
   "execution_count": 88,
   "metadata": {},
   "outputs": [
    {
     "name": "stdout",
     "output_type": "stream",
     "text": [
      "Harish Somsole\n",
      "harish1\n"
     ]
    }
   ],
   "source": [
    "a = \"harish\"\n",
    "a += \"1\"\n",
    "# name = \"Harish\"+\" \"+\"Somsole\"\n",
    "# a -= 1\n",
    "# a *= 1\n",
    "# a /= 1\n",
    "# a %= 1\n",
    "# print(name)\n",
    "print(a)"
   ]
  },
  {
   "cell_type": "markdown",
   "metadata": {},
   "source": [
    "# Logical operators"
   ]
  },
  {
   "cell_type": "code",
   "execution_count": 99,
   "metadata": {},
   "outputs": [],
   "source": [
    "# print(False and False)\n",
    "# print(False or False)\n",
    "# print(not False)\n",
    "\n",
    "\n",
    "\n"
   ]
  },
  {
   "cell_type": "markdown",
   "metadata": {},
   "source": [
    "# Exercise"
   ]
  },
  {
   "cell_type": "markdown",
   "metadata": {},
   "source": [
    "1. Find the area of circle \n",
    "\n",
    "Algorithm:\n",
    "\n",
    "input radius\n",
    "\n",
    "area = 3.14 * radius * radius\n",
    "\n",
    "display area"
   ]
  },
  {
   "cell_type": "markdown",
   "metadata": {},
   "source": [
    "# IF statement"
   ]
  },
  {
   "cell_type": "code",
   "execution_count": null,
   "metadata": {},
   "outputs": [],
   "source": [
    "age = 23\n",
    "if age >= 18:\n",
    "    print(\"Eligible to vote\")\n",
    "print(\"Finish\")"
   ]
  },
  {
   "cell_type": "markdown",
   "metadata": {},
   "source": [
    "# IF-Else statement"
   ]
  },
  {
   "cell_type": "code",
   "execution_count": null,
   "metadata": {},
   "outputs": [],
   "source": [
    "age = 20\n",
    "if age >= 18:\n",
    "    print(\"Eligible to vote\")\n",
    "else:\n",
    "    print(\"Not eligible\")"
   ]
  },
  {
   "cell_type": "markdown",
   "metadata": {},
   "source": [
    "# IF-ELSE-IF statement"
   ]
  },
  {
   "cell_type": "code",
   "execution_count": null,
   "metadata": {},
   "outputs": [],
   "source": [
    "num = 2\n",
    "if num == 1:\n",
    "    print(\"Number equals to one\")\n",
    "elif num == 2:\n",
    "    print(\"Number equals to two\")\n",
    "else:\n",
    "    print(\"Number is none other than 1 and 2\")"
   ]
  },
  {
   "cell_type": "markdown",
   "metadata": {},
   "source": [
    "# Nested IF"
   ]
  },
  {
   "cell_type": "code",
   "execution_count": null,
   "metadata": {},
   "outputs": [],
   "source": [
    "num = 3\n",
    "\n",
    "if(num > 0):\n",
    "    if(num > 30):\n",
    "        print(\"num is greater than 30\")\n",
    "    else:\n",
    "        print(\"num is not greater than 30\")\n",
    "else:\n",
    "    print(\"num is not greater than 0\")"
   ]
  },
  {
   "cell_type": "markdown",
   "metadata": {},
   "source": [
    "# Exercise:\n",
    "\n",
    "1.Python program to add two numbers\n",
    "\n",
    "2.Maximum of two numbers in Python\n",
    "\n",
    "3.Python Program for simple interest\n",
    "\n",
    "4.Python Program for compound interest\n",
    "\n",
    "5.Python Program to find area of a circle\n",
    "\n",
    "6.Python program to check whether a number is Prime or not\n",
    "\n",
    "7.Program to print ASCII Value of a character\n",
    "\n",
    "8.Python Program for Sum of squares of first n natural numbers\n",
    "\n",
    "9.Python Program for cube sum of first n natural numbers"
   ]
  },
  {
   "cell_type": "markdown",
   "metadata": {},
   "source": [
    "# While statement"
   ]
  },
  {
   "cell_type": "code",
   "execution_count": null,
   "metadata": {
    "scrolled": false
   },
   "outputs": [],
   "source": [
    "i=5\n",
    "while(i>0):\n",
    "    print(i)\n",
    "    i = i-1\n",
    "else:\n",
    "    print('Completed')"
   ]
  },
  {
   "cell_type": "markdown",
   "metadata": {},
   "source": [
    "# For loop"
   ]
  },
  {
   "cell_type": "code",
   "execution_count": null,
   "metadata": {},
   "outputs": [],
   "source": [
    "for i in 1,2,3,4,5:\n",
    "    print(i)"
   ]
  },
  {
   "cell_type": "code",
   "execution_count": null,
   "metadata": {
    "scrolled": true
   },
   "outputs": [],
   "source": [
    "for i in range(0,100,10):\n",
    "    print(i)\n",
    "else:\n",
    "    print(\"Completed\")"
   ]
  },
  {
   "cell_type": "markdown",
   "metadata": {},
   "source": [
    "# break statement"
   ]
  },
  {
   "cell_type": "code",
   "execution_count": null,
   "metadata": {},
   "outputs": [],
   "source": [
    "i = 0\n",
    "while(i<5):\n",
    "    if i == 2:\n",
    "        break\n",
    "    print(i)\n",
    "    i = i+1"
   ]
  },
  {
   "cell_type": "markdown",
   "metadata": {},
   "source": [
    "# COntinue Statement"
   ]
  },
  {
   "cell_type": "code",
   "execution_count": null,
   "metadata": {},
   "outputs": [],
   "source": [
    "i = 0\n",
    "for i in range(5):\n",
    "    if i == 2:\n",
    "        continue\n",
    "    print(i)"
   ]
  },
  {
   "cell_type": "markdown",
   "metadata": {},
   "source": [
    "# Functions"
   ]
  },
  {
   "cell_type": "code",
   "execution_count": null,
   "metadata": {},
   "outputs": [],
   "source": [
    "#positional arguments\n",
    "\n",
    "def add(num1,num2):\n",
    "    return num1+num2\n",
    "\n",
    "print(add(3,2))"
   ]
  },
  {
   "cell_type": "code",
   "execution_count": null,
   "metadata": {},
   "outputs": [],
   "source": [
    "# default arguments\n",
    "\n",
    "def add(num1,num2=5):\n",
    "    return num1 + num2\n",
    "\n",
    "print(add(3))"
   ]
  },
  {
   "cell_type": "code",
   "execution_count": null,
   "metadata": {},
   "outputs": [],
   "source": [
    "# keyword arguments\n",
    "\n",
    "def add(num1,num2):\n",
    "    return num1 + num2\n",
    "\n",
    "print(add(num2=3,num1=4))"
   ]
  },
  {
   "cell_type": "markdown",
   "metadata": {},
   "source": [
    "# variable Scope --- global and local variables"
   ]
  },
  {
   "cell_type": "code",
   "execution_count": null,
   "metadata": {},
   "outputs": [],
   "source": [
    "# global variable -> outside the function\n",
    "\n",
    "i = 1\n",
    "def add():\n",
    "    global i\n",
    "    result = i + 2\n",
    "    print(result)\n",
    "    \n",
    "add()\n"
   ]
  },
  {
   "cell_type": "code",
   "execution_count": null,
   "metadata": {},
   "outputs": [],
   "source": [
    "#local variable   -> inside the function\n",
    "\n",
    "def add():\n",
    "    i = 1\n",
    "    j = 2\n",
    "    result = i +j\n",
    "    print(result)\n",
    "    \n",
    "add()"
   ]
  },
  {
   "cell_type": "markdown",
   "metadata": {},
   "source": [
    "# Variable number of arguments"
   ]
  },
  {
   "cell_type": "code",
   "execution_count": null,
   "metadata": {},
   "outputs": [],
   "source": [
    "# takes multiple arguments in the form of tuple\n",
    "\n",
    "def fun1(*arg):\n",
    "    result = arg\n",
    "    print(result)\n",
    "\n",
    "fun1(1,2,5)"
   ]
  },
  {
   "cell_type": "code",
   "execution_count": null,
   "metadata": {},
   "outputs": [],
   "source": [
    "# takes multiple keyword arguments in form of dictionary\n",
    "\n",
    "def func1(**arg):\n",
    "    result = arg\n",
    "    print(result)\n",
    "\n",
    "func1(name=\"Harish\",couse=\"MCA\")\n",
    "func1(dept=\"Computer science\",college=\"SVU\",city=\"Tirupati\")\n"
   ]
  },
  {
   "cell_type": "markdown",
   "metadata": {},
   "source": [
    "# Collection Data types\n",
    "\n",
    "1.Lists  ----> mutable , denoted by []\n",
    "\n",
    "2.Tuples ----> immutable , denoted by (), faster than lists\n",
    "\n",
    "3.Sets  -----> doen't allow duplicate values , denoted by {}\n",
    "\n",
    "4.Dictionaries -----> key-value pairs, denoted as {key:value}"
   ]
  },
  {
   "cell_type": "markdown",
   "metadata": {},
   "source": [
    "# Lists"
   ]
  },
  {
   "cell_type": "code",
   "execution_count": null,
   "metadata": {},
   "outputs": [],
   "source": [
    "# lst creation\n",
    "\n",
    "lst = [] # empty list\n",
    "lst = [None]*5 # list of size 5 with no elements\n",
    "lst = [\"Harish\",23,\"male\",5.8]\n",
    "\n",
    "print(lst)"
   ]
  },
  {
   "cell_type": "markdown",
   "metadata": {},
   "source": [
    "# List Functions"
   ]
  },
  {
   "cell_type": "code",
   "execution_count": null,
   "metadata": {},
   "outputs": [],
   "source": [
    "\n",
    "lst = [0,1,2,4,5,6,7]\n",
    "\n",
    "lst1 = lst.copy()\n",
    "print(lst1)\n",
    "\n",
    "# lst[2] = 8             # changing value at index 2\n",
    "# print(lst[-1])         # prints last element in list\n",
    "\n",
    "# l = len(lst)           # length of list\n",
    "# print(l)\n",
    "\n",
    "# lst.append(3)          # adds 3 at end of the list\n",
    "\n",
    "# n = lst.index(5)       # gives value at 5th index\n",
    "\n",
    "# print(n)\n",
    "\n",
    "# print(lst)\n"
   ]
  },
  {
   "cell_type": "code",
   "execution_count": null,
   "metadata": {},
   "outputs": [],
   "source": [
    "# Removing elements\n",
    "\n",
    "lst = [0,1,2,4,5,6,7]\n",
    "\n",
    "# lst.pop()              # removes last element\n",
    "# lst.pop(3)             # removes element at 3rd index\n",
    "\n",
    "# lst.remove(2)          # removes 2 from the list"
   ]
  },
  {
   "cell_type": "code",
   "execution_count": null,
   "metadata": {},
   "outputs": [],
   "source": [
    "# sorting\n",
    "\n",
    "lst = [0,1,2,4,5,6,7]\n",
    "\n",
    "# lst.sort()             # ascending order\n",
    "# lst.reverse()          # reverse order"
   ]
  },
  {
   "cell_type": "code",
   "execution_count": null,
   "metadata": {},
   "outputs": [],
   "source": [
    "# slicing\n",
    "\n",
    "lst = [0,1,2,4,5,6,7]\n",
    "\n",
    "# new_list = lst[1:4]    # list slicing\n",
    "# print(new_list)"
   ]
  },
  {
   "cell_type": "code",
   "execution_count": null,
   "metadata": {},
   "outputs": [],
   "source": [
    "# concatenating 2 lists\n",
    "\n",
    "lst1 = [0,1,2,3]\n",
    "lst2 = [4,5,6]\n",
    "\n",
    "# lst1 += lst2        # adds new lst2 to lst1\n",
    "lst1 = lst1 + lst2  # creates a new list with name lst1\n",
    "\n",
    "print(lst1)"
   ]
  },
  {
   "cell_type": "code",
   "execution_count": null,
   "metadata": {},
   "outputs": [],
   "source": [
    "# searching in list\n",
    "\n",
    "num = 4\n",
    "lst = [0,1,2,3,4,5]\n",
    "for el in lst:\n",
    "    if el == num:\n",
    "        print(\"Element found\")\n",
    "        break\n",
    "else:\n",
    "    print(\"Element not found\")"
   ]
  },
  {
   "cell_type": "markdown",
   "metadata": {},
   "source": [
    "# Tuple"
   ]
  },
  {
   "cell_type": "code",
   "execution_count": null,
   "metadata": {},
   "outputs": [],
   "source": [
    "# declaring Tuple\n",
    "\n",
    "tpl = (\"Idly\",\"Dosa\",\"Vada\")\n",
    "\n",
    "# l = len(tpl)    #length of tuple\n",
    "# print(l)\n",
    "\n",
    "# tpl[2] = \"Sambar\" # results in error because tuples are immutable (not changable)\n",
    "\n",
    "print(tpl)"
   ]
  },
  {
   "cell_type": "markdown",
   "metadata": {},
   "source": [
    "# Packing and Unpacking"
   ]
  },
  {
   "cell_type": "code",
   "execution_count": null,
   "metadata": {},
   "outputs": [],
   "source": [
    "names = \"John\",\"Mosh\",\"Datt\"  # packing\n",
    "print(names)\n",
    "\n",
    "name1,name2,name3 = names     #unpacking \n",
    "print(name1,name2,name3)"
   ]
  },
  {
   "cell_type": "markdown",
   "metadata": {},
   "source": [
    "# Concatenating two tuples"
   ]
  },
  {
   "cell_type": "code",
   "execution_count": null,
   "metadata": {},
   "outputs": [],
   "source": [
    "tpl1 = (1,2,3)\n",
    "tpl2 = ('Raj','ram','rahim')\n",
    "\n",
    "tpl = tpl1 + tpl2 # creates new tuple\n",
    "\n",
    "print(tpl)"
   ]
  },
  {
   "cell_type": "markdown",
   "metadata": {},
   "source": [
    "# Sets"
   ]
  },
  {
   "cell_type": "code",
   "execution_count": null,
   "metadata": {},
   "outputs": [],
   "source": [
    "# st = {1,2,3,4,1,2,3,4}\n",
    "\n",
    "lst = [1,2,3,4,1,2,3,4]\n",
    "st = set(lst)\n",
    "\n",
    "print(st)"
   ]
  },
  {
   "cell_type": "markdown",
   "metadata": {},
   "source": [
    "# Union(|), Intersection(&), Difference(-) on sets"
   ]
  },
  {
   "cell_type": "code",
   "execution_count": null,
   "metadata": {},
   "outputs": [],
   "source": [
    "st1 = {1,2,3,4}\n",
    "st2 = {4,5,6}\n",
    "\n",
    "# new_st = st1 & st2   # returns a newset of common elements in st1 and st2\n",
    "\n",
    "# new_st = st1 - st2   # returns a newset which have only unique values in st1\n",
    "\n",
    "new_st = st1 | st2     # returns all the elements in set1 & set2\n",
    "\n",
    "print(new_st)"
   ]
  },
  {
   "cell_type": "markdown",
   "metadata": {},
   "source": [
    "# Dictionaries"
   ]
  },
  {
   "cell_type": "code",
   "execution_count": null,
   "metadata": {},
   "outputs": [],
   "source": [
    "# dictionary declaration\n",
    "\n",
    "dic = {} #empty dictionary\n",
    "dic = {\n",
    "    \"name\" : \"Harish\",\n",
    "    \"age\" : 23,\n",
    "    \"gender\" : \"Male\",\n",
    "    \"height\" : 5.8\n",
    "}\n",
    "\n",
    "print(dic)"
   ]
  },
  {
   "cell_type": "markdown",
   "metadata": {},
   "source": [
    "# Updating dictionary"
   ]
  },
  {
   "cell_type": "code",
   "execution_count": null,
   "metadata": {},
   "outputs": [],
   "source": [
    "dic = {\n",
    "    \"name\" : \"Harish\",\n",
    "    \"age\" : 23,\n",
    "    \"gender\" : \"Male\",\n",
    "    \"height\" : 5.8\n",
    "}\n",
    "\n",
    "dic1 = {\"marks\" : 80}\n",
    "dic.update(dic1)\n",
    "\n",
    "print(dic)"
   ]
  },
  {
   "cell_type": "markdown",
   "metadata": {},
   "source": [
    "# Getting values using keys"
   ]
  },
  {
   "cell_type": "code",
   "execution_count": null,
   "metadata": {},
   "outputs": [],
   "source": [
    "# name = dic.get(\"name\")\n",
    "name = dic[\"name\"]"
   ]
  }
 ],
 "metadata": {
  "kernelspec": {
   "display_name": "Python 3",
   "language": "python",
   "name": "python3"
  },
  "language_info": {
   "codemirror_mode": {
    "name": "ipython",
    "version": 3
   },
   "file_extension": ".py",
   "mimetype": "text/x-python",
   "name": "python",
   "nbconvert_exporter": "python",
   "pygments_lexer": "ipython3",
   "version": "3.8.5"
  }
 },
 "nbformat": 4,
 "nbformat_minor": 4
}
