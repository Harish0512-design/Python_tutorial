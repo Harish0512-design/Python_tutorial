{
 "cells": [
  {
   "cell_type": "markdown",
   "metadata": {},
   "source": [
    "# Variables"
   ]
  },
  {
   "cell_type": "code",
   "execution_count": null,
   "metadata": {},
   "outputs": [],
   "source": [
    "name = \"Harish\"\n",
    "Name = 'Harish'\n",
    "age = 23\n",
    "is_male = True\n",
    "height = 5.8\n",
    "complex_number = 3+8j\n",
    "\n",
    "print(\"Name:\",name)\n",
    "print(\"Age:\",age)\n",
    "print(\"is male:\",is_male)\n",
    "print(\"Height:\",height)\n",
    "print(\"complex_number:\",complex_number)\n",
    "type(name)"
   ]
  },
  {
   "cell_type": "markdown",
   "metadata": {},
   "source": [
    "# Type Casting"
   ]
  },
  {
   "cell_type": "code",
   "execution_count": null,
   "metadata": {},
   "outputs": [],
   "source": [
    "age = 23\n",
    "name = \"Harish\"\n",
    "height = 5.9\n",
    "\n",
    "# print(type(age))\n",
    "# print(type(name))\n",
    "# print(type(height))\n",
    "\n",
    "# after conversion\n",
    "\n",
    "# str(), int(), float()\n",
    "\n",
    "conv_age = str(age)\n",
    "conv_height = int(height)\n",
    "conv_age_to_float = float(age)\n",
    "\n",
    "print(type(conv_age))\n",
    "print(type(conv_height))\n",
    "print(type(conv_age_to_float))\n",
    "# print(type(str(height)))\n",
    "\n",
    "# # values\n",
    "\n",
    "print(age,name,height)\n",
    "print(conv_age,conv_height,conv_age_to_float)"
   ]
  },
  {
   "cell_type": "markdown",
   "metadata": {},
   "source": [
    "# input() function"
   ]
  },
  {
   "cell_type": "code",
   "execution_count": null,
   "metadata": {},
   "outputs": [],
   "source": [
    "name = input(\"Enter your name: \")\n",
    "# type(name)\n",
    "age = int(input(\"Enter your age: \"))\n",
    "# type(age)\n",
    "print(name,\"\\'s age is \",age)"
   ]
  },
  {
   "cell_type": "code",
   "execution_count": null,
   "metadata": {},
   "outputs": [],
   "source": [
    "# single line cmt\n",
    "\n",
    "'''\n",
    "hi\n",
    "all \n",
    "hw r u\n",
    "multiline comments\n",
    "'''\n"
   ]
  },
  {
   "cell_type": "markdown",
   "metadata": {},
   "source": [
    "# Escape sequences"
   ]
  },
  {
   "cell_type": "code",
   "execution_count": null,
   "metadata": {
    "scrolled": true
   },
   "outputs": [],
   "source": [
    "# \\' , \\\\ , \\n , \\t\n",
    "\n",
    "# new_line = \"Hello gud mrng!\\nIs there anyone in home.\"\n",
    "# tab_space = \"Hi all \\t this is Harish!\"\n",
    "# back_slash = \"use double backslash to get backslash in string \\\\\"\n",
    "# single_quote = 'There\\'s home'\n",
    "# double_quote = \"Hello everyone! she said \\\" don\\'t smoke \\\"\"\n",
    "\n",
    "# print(new_line)\n",
    "# print(tab_space)\n",
    "# print(back_slash)\n",
    "# print(single_quote)\n",
    "# print(double_quote)\n"
   ]
  },
  {
   "cell_type": "markdown",
   "metadata": {},
   "source": [
    "# Operators\n",
    "1.Arithmetic operators\n",
    "\n",
    "2.Relational Operators or comparision operators\n",
    "\n",
    "3.Logical Operators\n",
    "\n",
    "4.Assignment operators\n"
   ]
  },
  {
   "cell_type": "markdown",
   "metadata": {},
   "source": [
    "\n",
    "# Arithmetic Operators"
   ]
  },
  {
   "cell_type": "code",
   "execution_count": null,
   "metadata": {},
   "outputs": [],
   "source": [
    "num1 = int(input('enter first number:\\n'))\n",
    "num2 = int(input('enter second number:\\n'))\n",
    "# addition = num1 + num2\n",
    "# substraction = num1 - num2\n",
    "# multiplication = num1 * num2\n",
    "# division = num1 / num2\n",
    "# floor_division = num1 // num2\n",
    "# exponential = num1 ** 4     \n",
    "remainder = num1 % num2\n",
    "\n",
    "# print('Addition\\n',addition)\n",
    "# print('Substraction\\n',substraction)\n",
    "# print('Multiplication\\n',multiplication)\n",
    "# print('Division\\n',division)\n",
    "# print('floor division\\n',floor_division)\n",
    "# print('Exponential\\n',exponential)\n",
    "print('Modulus:\\n',remainder)"
   ]
  },
  {
   "cell_type": "markdown",
   "metadata": {},
   "source": [
    "# Relational Operators\n"
   ]
  },
  {
   "cell_type": "code",
   "execution_count": null,
   "metadata": {},
   "outputs": [],
   "source": [
    "# a = 20\n",
    "# b = 20\n",
    "# print(\"a>b is\",a>b)\n",
    "# print(\"a<b is\",a<b)\n",
    "# print(\"a==b is\",a==b)\n",
    "# print(\"a!=b is\",a!=b)\n",
    "# print(\"a<=b is\",a<=b)\n",
    "# print(\"a>=b is\",a>=b)\n",
    "\n"
   ]
  },
  {
   "cell_type": "markdown",
   "metadata": {},
   "source": [
    "# Assignment Operators"
   ]
  },
  {
   "cell_type": "code",
   "execution_count": null,
   "metadata": {},
   "outputs": [],
   "source": [
    "a = \"harish\"\n",
    "a += \"1\"\n",
    "# name = \"Harish\"+\" \"+\"Somsole\"\n",
    "# a -= 1\n",
    "# a *= 1\n",
    "# a /= 1\n",
    "# a %= 1\n",
    "# print(name)\n",
    "print(a)"
   ]
  },
  {
   "cell_type": "markdown",
   "metadata": {},
   "source": [
    "# Logical operators"
   ]
  },
  {
   "cell_type": "code",
   "execution_count": null,
   "metadata": {},
   "outputs": [],
   "source": [
    "# print(False and False)\n",
    "# print(False or False)\n",
    "# print(not False)\n",
    "\n",
    "\n",
    "\n"
   ]
  },
  {
   "cell_type": "markdown",
   "metadata": {},
   "source": [
    "# Exercise"
   ]
  },
  {
   "cell_type": "markdown",
   "metadata": {},
   "source": [
    "1. Find the area of circle \n",
    "\n",
    "Algorithm:\n",
    "\n",
    "input radius\n",
    "\n",
    "area = 3.14 * radius * radius\n",
    "\n",
    "display area"
   ]
  },
  {
   "cell_type": "markdown",
   "metadata": {},
   "source": [
    "# IF statement"
   ]
  },
  {
   "cell_type": "code",
   "execution_count": null,
   "metadata": {},
   "outputs": [],
   "source": [
    "age = 23\n",
    "if age >= 18:\n",
    "    print(\"Eligible to vote\")\n",
    "print(\"Finish\")"
   ]
  },
  {
   "cell_type": "markdown",
   "metadata": {},
   "source": [
    "# IF-Else statement"
   ]
  },
  {
   "cell_type": "code",
   "execution_count": null,
   "metadata": {},
   "outputs": [],
   "source": [
    "age = 20\n",
    "if age >= 18:\n",
    "    print(\"Eligible to vote\")\n",
    "else:\n",
    "    print(\"Not eligible\")"
   ]
  },
  {
   "cell_type": "markdown",
   "metadata": {},
   "source": [
    "# IF-ELSE-IF statement"
   ]
  },
  {
   "cell_type": "code",
   "execution_count": null,
   "metadata": {},
   "outputs": [],
   "source": [
    "num = 2\n",
    "if num == 1:\n",
    "    print(\"Number equals to one\")\n",
    "elif num == 2:\n",
    "    print(\"Number equals to two\")\n",
    "else:\n",
    "    print(\"Number is none other than 1 and 2\")"
   ]
  },
  {
   "cell_type": "markdown",
   "metadata": {},
   "source": [
    "# Nested IF"
   ]
  },
  {
   "cell_type": "code",
   "execution_count": null,
   "metadata": {},
   "outputs": [],
   "source": [
    "num = 3\n",
    "\n",
    "if(num > 0):\n",
    "    if(num > 30):\n",
    "        print(\"num is greater than 30\")\n",
    "    else:\n",
    "        print(\"num is not greater than 30\")\n",
    "else:\n",
    "    print(\"num is not greater than 0\")"
   ]
  },
  {
   "cell_type": "markdown",
   "metadata": {},
   "source": [
    "# Exercise:\n",
    "\n",
    "1.Python program to add two numbers\n",
    "\n",
    "2.Maximum of two numbers in Python\n",
    "\n",
    "3.Python Program for simple interest\n",
    "\n",
    "4.Python Program for compound interest\n",
    "\n",
    "5.Python Program to find area of a circle\n",
    "\n",
    "6.Python program to check whether a number is Prime or not\n",
    "\n",
    "7.Program to print ASCII Value of a character\n",
    "\n",
    "8.Python Program for Sum of squares of first n natural numbers\n",
    "\n",
    "9.Python Program for cube sum of first n natural numbers"
   ]
  },
  {
   "cell_type": "markdown",
   "metadata": {},
   "source": [
    "# While statement"
   ]
  },
  {
   "cell_type": "code",
   "execution_count": null,
   "metadata": {
    "scrolled": false
   },
   "outputs": [],
   "source": [
    "i=5\n",
    "while(i>0):\n",
    "    print(i)\n",
    "    i = i-1\n",
    "else:\n",
    "    print('Completed')"
   ]
  },
  {
   "cell_type": "markdown",
   "metadata": {},
   "source": [
    "# For loop"
   ]
  },
  {
   "cell_type": "code",
   "execution_count": null,
   "metadata": {},
   "outputs": [],
   "source": [
    "for i in 1,2,3,4,5:\n",
    "    print(i)"
   ]
  },
  {
   "cell_type": "code",
   "execution_count": null,
   "metadata": {
    "scrolled": true
   },
   "outputs": [],
   "source": [
    "for i in range(0,100,10):\n",
    "    print(i)\n",
    "else:\n",
    "    print(\"Completed\")"
   ]
  },
  {
   "cell_type": "markdown",
   "metadata": {},
   "source": [
    "# break statement"
   ]
  },
  {
   "cell_type": "code",
   "execution_count": null,
   "metadata": {},
   "outputs": [],
   "source": [
    "i = 0\n",
    "while(i<5):\n",
    "    if i == 2:\n",
    "        break\n",
    "    print(i)\n",
    "    i = i+1"
   ]
  },
  {
   "cell_type": "markdown",
   "metadata": {},
   "source": [
    "# COntinue Statement"
   ]
  },
  {
   "cell_type": "code",
   "execution_count": null,
   "metadata": {},
   "outputs": [],
   "source": [
    "i = 0\n",
    "for i in range(5):\n",
    "    if i == 2:\n",
    "        continue\n",
    "    print(i)"
   ]
  },
  {
   "cell_type": "markdown",
   "metadata": {},
   "source": [
    "# Functions"
   ]
  },
  {
   "cell_type": "code",
   "execution_count": null,
   "metadata": {},
   "outputs": [],
   "source": [
    "#positional arguments\n",
    "\n",
    "def add(num1,num2):\n",
    "    return num1+num2\n",
    "\n",
    "print(add(3,2))"
   ]
  },
  {
   "cell_type": "code",
   "execution_count": null,
   "metadata": {},
   "outputs": [],
   "source": [
    "# default arguments\n",
    "\n",
    "def add(num1,num2=5):\n",
    "    return num1 + num2\n",
    "\n",
    "print(add(3))"
   ]
  },
  {
   "cell_type": "code",
   "execution_count": null,
   "metadata": {},
   "outputs": [],
   "source": [
    "def sum_of_numbers(list_of_num,filter_func=None):\n",
    "    sum_of_n = 0\n",
    "    if filter_func is not None:\n",
    "        res = filter_func(list_of_num)\n",
    "        for i in res:\n",
    "            sum_of_n += i\n",
    "    else:\n",
    "        for j in list_of_num:\n",
    "            sum_of_n += j\n",
    "    return sum_of_n\n",
    "    \n",
    "def even(data):\n",
    "    evn_list = []\n",
    "    for i in data:\n",
    "        if i % 2 == 0:\n",
    "            evn_list.append(i)\n",
    "    return evn_list        \n",
    "\n",
    "def odd(data):\n",
    "    odd_list = []\n",
    "    for i in data:\n",
    "        if i % 2 != 0:\n",
    "            odd_list.append(i)\n",
    "    return odd_list\n",
    "\n",
    "sample_data = range(1,11)\n",
    "\n",
    "print(sum_of_numbers(sample_data,even))"
   ]
  },
  {
   "cell_type": "code",
   "execution_count": null,
   "metadata": {},
   "outputs": [],
   "source": [
    "# keyword arguments\n",
    "\n",
    "def add(num1,num2):\n",
    "    return num1 + num2\n",
    "\n",
    "print(add(num2=3,num1=4))"
   ]
  },
  {
   "cell_type": "markdown",
   "metadata": {},
   "source": [
    "# variable Scope --- global and local variables"
   ]
  },
  {
   "cell_type": "code",
   "execution_count": null,
   "metadata": {},
   "outputs": [],
   "source": [
    "# global variable -> outside the function\n",
    "\n",
    "i = 1\n",
    "def add():\n",
    "    global i\n",
    "    result = i + 2\n",
    "    print(result)\n",
    "    \n",
    "add()\n"
   ]
  },
  {
   "cell_type": "code",
   "execution_count": null,
   "metadata": {},
   "outputs": [],
   "source": [
    "#local variable   -> inside the function\n",
    "\n",
    "def add():\n",
    "    i = 1\n",
    "    j = 2\n",
    "    result = i +j\n",
    "    print(result)\n",
    "    \n",
    "add()"
   ]
  },
  {
   "cell_type": "markdown",
   "metadata": {},
   "source": [
    "# Variable number of arguments"
   ]
  },
  {
   "cell_type": "code",
   "execution_count": null,
   "metadata": {},
   "outputs": [],
   "source": [
    "# takes multiple arguments in the form of tuple\n",
    "\n",
    "def fun1(*arg):\n",
    "    result = arg\n",
    "    print(result)\n",
    "\n",
    "fun1(1,2,5)"
   ]
  },
  {
   "cell_type": "code",
   "execution_count": null,
   "metadata": {},
   "outputs": [],
   "source": [
    "# takes multiple keyword arguments in form of dictionary\n",
    "\n",
    "def func1(**arg):\n",
    "    result = arg\n",
    "    print(result)\n",
    "\n",
    "func1(name=\"Harish\",couse=\"MCA\")\n",
    "func1(dept=\"Computer science\",college=\"SVU\",city=\"Tirupati\")\n"
   ]
  },
  {
   "cell_type": "markdown",
   "metadata": {},
   "source": [
    "# Collection Data types\n",
    "\n",
    "1.Lists  ----> mutable , denoted by []\n",
    "\n",
    "2.Tuples ----> immutable , denoted by (), faster than lists\n",
    "\n",
    "3.Sets  -----> doen't allow duplicate values , denoted by {}\n",
    "\n",
    "4.Dictionaries -----> key-value pairs, denoted as {key:value}"
   ]
  },
  {
   "cell_type": "markdown",
   "metadata": {},
   "source": [
    "# Lists"
   ]
  },
  {
   "cell_type": "code",
   "execution_count": null,
   "metadata": {},
   "outputs": [],
   "source": [
    "# lst creation\n",
    "\n",
    "lst = [] # empty list\n",
    "lst = [None]*5 # list of size 5 with no elements\n",
    "lst = [\"Harish\",23,\"male\",5.8]\n",
    "\n",
    "print(lst)"
   ]
  },
  {
   "cell_type": "markdown",
   "metadata": {},
   "source": [
    "# List Functions"
   ]
  },
  {
   "cell_type": "code",
   "execution_count": null,
   "metadata": {},
   "outputs": [],
   "source": [
    "\n",
    "lst = [0,1,2,4,5,6,7]\n",
    "\n",
    "lst1 = lst.copy()\n",
    "print(lst1)\n",
    "\n",
    "# lst[2] = 8             # changing value at index 2\n",
    "# print(lst[-1])         # prints last element in list\n",
    "\n",
    "# l = len(lst)           # length of list\n",
    "# print(l)\n",
    "\n",
    "# lst.append(3)          # adds 3 at end of the list\n",
    "\n",
    "# n = lst.index(5)       # gives value at 5th index\n",
    "\n",
    "# print(n)\n",
    "\n",
    "# print(lst)\n"
   ]
  },
  {
   "cell_type": "code",
   "execution_count": null,
   "metadata": {},
   "outputs": [],
   "source": [
    "# Removing elements\n",
    "\n",
    "lst = [0,1,2,4,5,6,7]\n",
    "\n",
    "# lst.pop()              # removes last element\n",
    "# lst.pop(3)             # removes element at 3rd index\n",
    "\n",
    "# lst.remove(2)          # removes 2 from the list"
   ]
  },
  {
   "cell_type": "code",
   "execution_count": null,
   "metadata": {},
   "outputs": [],
   "source": [
    "# sorting\n",
    "\n",
    "lst = [0,1,2,4,5,6,7,111,23,12]\n",
    "\n",
    "lst.sort()             # ascending order\n",
    "lst.reverse()          # reverse order\n",
    "print(lst)"
   ]
  },
  {
   "cell_type": "code",
   "execution_count": null,
   "metadata": {},
   "outputs": [],
   "source": [
    "# slicing\n",
    "\n",
    "lst = [0,1,2,4,5,6,7]\n",
    "\n",
    "# new_list = lst[1:4]    # list slicing\n",
    "# print(new_list)"
   ]
  },
  {
   "cell_type": "code",
   "execution_count": null,
   "metadata": {},
   "outputs": [],
   "source": [
    "# concatenating 2 lists\n",
    "\n",
    "lst1 = [0,1,2,3]\n",
    "lst2 = [4,5,6]\n",
    "\n",
    "# lst1 += lst2        # adds new lst2 to lst1\n",
    "lst1 = lst1 + lst2  # creates a new list with name lst1\n",
    "\n",
    "print(lst1)"
   ]
  },
  {
   "cell_type": "code",
   "execution_count": null,
   "metadata": {},
   "outputs": [],
   "source": [
    "# searching in list\n",
    "\n",
    "num = 4\n",
    "lst = [0,1,2,3,4,5]\n",
    "for el in lst:\n",
    "    if el == num:\n",
    "        print(\"Element found\")\n",
    "        break\n",
    "else:\n",
    "    print(\"Element not found\")"
   ]
  },
  {
   "cell_type": "markdown",
   "metadata": {},
   "source": [
    "# Tuple"
   ]
  },
  {
   "cell_type": "code",
   "execution_count": null,
   "metadata": {},
   "outputs": [],
   "source": [
    "# declaring Tuple\n",
    "\n",
    "tpl = (\"Idly\",\"Dosa\",\"Vada\")\n",
    "\n",
    "# l = len(tpl)    #length of tuple\n",
    "# print(l)\n",
    "\n",
    "# tpl[2] = \"Sambar\" # results in error because tuples are immutable (not changable)\n",
    "\n",
    "print(tpl)"
   ]
  },
  {
   "cell_type": "markdown",
   "metadata": {},
   "source": [
    "# Packing and Unpacking"
   ]
  },
  {
   "cell_type": "code",
   "execution_count": null,
   "metadata": {},
   "outputs": [],
   "source": [
    "names = \"John\",\"Mosh\",\"Datt\"  # packing\n",
    "print(names)\n",
    "\n",
    "name1,name2,name3 = names     #unpacking \n",
    "print(name1,name2,name3)"
   ]
  },
  {
   "cell_type": "markdown",
   "metadata": {},
   "source": [
    "# Concatenating two tuples"
   ]
  },
  {
   "cell_type": "code",
   "execution_count": null,
   "metadata": {},
   "outputs": [],
   "source": [
    "tpl1 = (1,2,3)\n",
    "tpl2 = ('Raj','ram','rahim')\n",
    "\n",
    "tpl = tpl1 + tpl2 # creates new tuple\n",
    "\n",
    "print(tpl)"
   ]
  },
  {
   "cell_type": "markdown",
   "metadata": {},
   "source": [
    "# Sets\n",
    "\n",
    "unordered group of elements"
   ]
  },
  {
   "cell_type": "code",
   "execution_count": null,
   "metadata": {},
   "outputs": [],
   "source": [
    "# st = {1,2,3,4,1,2,3,4}\n",
    "\n",
    "lst = [1,2,3,4,1,2,3,4]\n",
    "st = set(lst)\n",
    "\n",
    "print(st)"
   ]
  },
  {
   "cell_type": "markdown",
   "metadata": {},
   "source": [
    "# Union(|), Intersection(&), Difference(-) on sets"
   ]
  },
  {
   "cell_type": "code",
   "execution_count": null,
   "metadata": {},
   "outputs": [],
   "source": [
    "st1 = {1,2,3,4}\n",
    "st2 = {4,5,6}\n",
    "\n",
    "# new_st = st1 & st2   # returns a newset of common elements in st1 and st2\n",
    "\n",
    "# new_st = st1 - st2   # returns a newset which have only unique values in st1\n",
    "\n",
    "new_st = st1 | st2     # returns all the elements in set1 & set2\n",
    "\n",
    "print(new_st)"
   ]
  },
  {
   "cell_type": "markdown",
   "metadata": {},
   "source": [
    "# Dictionaries\n",
    "\n",
    "The advantage of using dictionary is that it allows very fast search for value based on key."
   ]
  },
  {
   "cell_type": "code",
   "execution_count": null,
   "metadata": {},
   "outputs": [],
   "source": [
    "# dictionary declaration\n",
    "\n",
    "dic = {} #empty dictionary\n",
    "dic = {\n",
    "    \"name\" : \"Harish\",\n",
    "    \"age\" : 23,\n",
    "    \"gender\" : \"Male\",\n",
    "    \"height\" : 5.8\n",
    "}\n",
    "\n",
    "print(dic)"
   ]
  },
  {
   "cell_type": "markdown",
   "metadata": {},
   "source": [
    "# Updating dictionary"
   ]
  },
  {
   "cell_type": "code",
   "execution_count": null,
   "metadata": {},
   "outputs": [],
   "source": [
    "dic = {\n",
    "    \"name\" : \"Harish\",\n",
    "    \"age\" : 23,\n",
    "    \"gender\" : \"Male\",\n",
    "    \"height\" : 5.8\n",
    "}\n",
    "\n",
    "dic1 = {\"marks\" : 80}\n",
    "dic.update(dic1)\n",
    "\n",
    "print(dic)"
   ]
  },
  {
   "cell_type": "markdown",
   "metadata": {},
   "source": [
    "# Getting values using keys"
   ]
  },
  {
   "cell_type": "code",
   "execution_count": null,
   "metadata": {},
   "outputs": [],
   "source": [
    "dic = {\n",
    "    \"name\" : \"Harish\",\n",
    "    \"age\" : 23,\n",
    "    \"gender\" : \"Male\",\n",
    "    \"height\" : 5.8\n",
    "}\n",
    "\n",
    "# name = dic.get(\"name\")\n",
    "name = dic[\"name\"]\n",
    "print(name)"
   ]
  },
  {
   "cell_type": "markdown",
   "metadata": {},
   "source": [
    "# using For loop"
   ]
  },
  {
   "cell_type": "code",
   "execution_count": null,
   "metadata": {},
   "outputs": [],
   "source": [
    "dic = {\n",
    "    \"name\" : \"Harish\",\n",
    "    \"age\" : 23,\n",
    "    \"gender\" : \"Male\",\n",
    "    \"height\" : 5.8\n",
    "}\n",
    "for key,value in dic.items():\n",
    "    print(key,value)"
   ]
  },
  {
   "cell_type": "markdown",
   "metadata": {},
   "source": [
    "# Strings\n",
    "\n",
    "Strings are immutable"
   ]
  },
  {
   "cell_type": "code",
   "execution_count": null,
   "metadata": {},
   "outputs": [],
   "source": [
    "name = \"Harish\"\n",
    "for i in name:\n",
    "    print(i)"
   ]
  },
  {
   "cell_type": "markdown",
   "metadata": {},
   "source": [
    "# String slicing"
   ]
  },
  {
   "cell_type": "code",
   "execution_count": null,
   "metadata": {},
   "outputs": [],
   "source": [
    "name = \"Harish\"\n",
    "\n",
    "print(name[1:3])\n",
    "name[-1]\n",
    "name[-4]\n",
    "\n",
    "name[::-1]"
   ]
  },
  {
   "cell_type": "markdown",
   "metadata": {},
   "source": [
    "# String functions"
   ]
  },
  {
   "cell_type": "code",
   "execution_count": null,
   "metadata": {},
   "outputs": [],
   "source": [
    "name = \"Harish\"\n",
    "\n",
    "length = len(name)\n",
    "print(length)\n",
    "\n",
    "name.count(\"h\")            # counts the no. of characters in string \n",
    "name.upper()               # converts to upper\n",
    "name.lower()               # converts to lower\n",
    "name.replace('a','A')      # replaces 'a' with 'A'\n",
    "name.find(\"i\")             # finds i in string \n",
    "name.startswith(\"Ha\")      # returns true if startswith Ha\n",
    "name.endswith(\"sh\")        # returns true if endswith 'sh'\n",
    "name.isdigit()             # returns True if string is a number\n",
    "name.split('i')            # separates the string and returns a list"
   ]
  },
  {
   "cell_type": "markdown",
   "metadata": {},
   "source": [
    "# Debugging:\n",
    "\n",
    "When there are logical errors/bugs in a program, we can either manually debug the program or we can take the help of a debugging tool provided by the IDE we are using.\n",
    "\n",
    "Note: Use VScode\n",
    "    "
   ]
  },
  {
   "cell_type": "code",
   "execution_count": null,
   "metadata": {},
   "outputs": [],
   "source": [
    "\n",
    "'''This program is expected to display all the even numbers\n",
    "between 1 and n (both inclusive)'''\n",
    "# i=1\n",
    "# n=10\n",
    "# while(i<=n):\n",
    "#     if(i%2==0):\n",
    "#         print(i)\n",
    "#         i+=1\n",
    "#     else:\n",
    "#         continue\n",
    "#     i+=1\n"
   ]
  },
  {
   "cell_type": "markdown",
   "metadata": {},
   "source": [
    "# Libraries"
   ]
  },
  {
   "cell_type": "markdown",
   "metadata": {},
   "source": [
    "# Random library or Random Module\n",
    "\n",
    "generates random numbers"
   ]
  },
  {
   "cell_type": "code",
   "execution_count": null,
   "metadata": {},
   "outputs": [],
   "source": [
    "import random\n",
    "# or\n",
    "# import random as rd\n",
    "# or \n",
    "# from random import *\n",
    "# or \n",
    "# from random import randrange,random,randint\n",
    "\n",
    "random_number = random.randrange(1,11)    \n",
    "rndm = random.choice([1,2,3,4,5])         # returns random number in a sequence\n",
    "rndm_lst = random.choices([1,2,3,4,5])    # returns a list containing random number\n",
    "rndm_0_1 = random.random()\n",
    "rndm_int = random.randint(100,120)\n",
    "print(random_number)\n",
    "print(rndm)\n",
    "print(rndm_lst)\n",
    "print(rndm_0_1)\n",
    "print(rndm_int)"
   ]
  },
  {
   "cell_type": "markdown",
   "metadata": {},
   "source": [
    "# Math library"
   ]
  },
  {
   "cell_type": "code",
   "execution_count": null,
   "metadata": {},
   "outputs": [],
   "source": [
    "import math\n",
    "\n",
    "a = 5.7\n",
    "b = -20.1\n",
    "c = 5\n",
    "d = 625\n",
    "\n",
    "flr = math.floor(a)          # gives less value i.e., 5.7 -- 5\n",
    "cl = math.ceil(a)            # rounds the value and gives 6 in 5.7\n",
    "fact = math.factorial(c)\n",
    "absolute = math.fabs(b)\n",
    "square_rt = math.sqrt(d)\n",
    "pwr = math.pow(c,3)\n",
    "\n",
    "print(flr)\n",
    "print(cl)\n",
    "print(fact)\n",
    "print(absolute)\n",
    "print(square_rt)\n",
    "print(pwr)"
   ]
  },
  {
   "cell_type": "markdown",
   "metadata": {},
   "source": [
    "# Time Module"
   ]
  },
  {
   "cell_type": "code",
   "execution_count": null,
   "metadata": {},
   "outputs": [],
   "source": [
    "import time\n",
    "\n",
    "sec_upto_now_frm_1970 = time.time()\n",
    "print(sec_upto_now_frm_1970)\n",
    "\n",
    "local_time = time.localtime()\n",
    "print(local_time)\n",
    "\n",
    "current_tm = time.strftime(\"%H:%M:%S\")\n",
    "print(current_tm)\n",
    "print(type(current_tm))\n",
    "\n",
    "time.sleep(5)\n",
    "\n",
    "current_dt = time.strftime(\"%d/%m/%y\")\n",
    "print(current_dt)\n",
    "\n",
    "\n"
   ]
  },
  {
   "cell_type": "markdown",
   "metadata": {},
   "source": [
    "# datetime Module"
   ]
  },
  {
   "cell_type": "code",
   "execution_count": null,
   "metadata": {},
   "outputs": [],
   "source": [
    "import datetime\n",
    "\n",
    "current_dt_tm = datetime.datetime.now()\n",
    "# or\n",
    "# current_dt_tm = datetime.datetime.today()\n",
    "print(current_dt_tm)\n",
    "\n",
    "current_dt = datetime.date.today()\n",
    "print(current_dt)\n",
    "\n",
    "date_after_3days = current_dt_tm + datetime.timedelta(days=3)\n",
    "print(date_after_3days)\n",
    "\n",
    "date_after_3weeks = current_dt_tm + datetime.timedelta(weeks=3)\n",
    "print(date_after_3weeks)"
   ]
  },
  {
   "cell_type": "code",
   "execution_count": null,
   "metadata": {},
   "outputs": [],
   "source": [
    "import calendar as cal\n",
    "\n",
    "print(cal.month(2021,4))"
   ]
  },
  {
   "cell_type": "markdown",
   "metadata": {},
   "source": [
    "# Recursion\n",
    "\n",
    "A function calling itself is called Recursion"
   ]
  },
  {
   "cell_type": "code",
   "execution_count": null,
   "metadata": {},
   "outputs": [],
   "source": [
    "def fact(n):\n",
    "    if n == 0:\n",
    "        return 1\n",
    "    else:\n",
    "        return n * fact(n-1)\n",
    "    \n",
    "print(fact(5))"
   ]
  },
  {
   "cell_type": "code",
   "execution_count": 2,
   "metadata": {},
   "outputs": [
    {
     "name": "stdout",
     "output_type": "stream",
     "text": [
      "Source: []\n",
      "Destination: ['blue', 'green', 'orange']\n"
     ]
    }
   ],
   "source": [
    "def tower_of_hanoi(n, source,destination,temp):\n",
    "    if(n==1):\n",
    "        disk=source.pop(0) #Removes the element in specified position\n",
    "        destination.insert(0,disk) #Inserts the given element in specified position\n",
    "        return\n",
    "    tower_of_hanoi(n-1, source, temp, destination)\n",
    "    disk=source.pop(0)\n",
    "    destination.insert(0,disk)\n",
    "    tower_of_hanoi(n-1, temp, destination, source)\n",
    "    return\n",
    "\n",
    "source=[\"blue\",\"green\",\"orange\"]\n",
    "destination=[]\n",
    "temp=[]\n",
    "tower_of_hanoi(3, source, destination, temp)\n",
    "print(\"Source:\",source)\n",
    "print(\"Destination:\",destination)"
   ]
  },
  {
   "cell_type": "markdown",
   "metadata": {},
   "source": [
    "# File Handling"
   ]
  },
  {
   "cell_type": "code",
   "execution_count": null,
   "metadata": {},
   "outputs": [],
   "source": [
    "file = open(r'C:\\Users\\haris\\Desktop\\numbers.txt','r')\n",
    "print(file.read())\n"
   ]
  },
  {
   "cell_type": "code",
   "execution_count": null,
   "metadata": {},
   "outputs": [],
   "source": [
    "file.close()"
   ]
  },
  {
   "cell_type": "code",
   "execution_count": null,
   "metadata": {},
   "outputs": [],
   "source": [
    "# creating a new file\n",
    "\n",
    "f1 = open('sample.txt','x')           \n",
    "sentence = \"Hi! I'm Harish\"\n",
    "f1.write(sentence)"
   ]
  },
  {
   "cell_type": "code",
   "execution_count": null,
   "metadata": {},
   "outputs": [],
   "source": [
    "f1.close()"
   ]
  },
  {
   "cell_type": "markdown",
   "metadata": {},
   "source": [
    "modes \n",
    "\n",
    "r = read the file\n",
    "\n",
    "w = writes the file\n",
    "\n",
    "x = creates the file\n",
    "\n",
    "r+ = both read & write\n",
    "\n",
    "w+ = both read & write"
   ]
  },
  {
   "cell_type": "markdown",
   "metadata": {},
   "source": [
    "# Exception Handling"
   ]
  },
  {
   "cell_type": "code",
   "execution_count": 1,
   "metadata": {},
   "outputs": [
    {
     "ename": "TypeError",
     "evalue": "unsupported operand type(s) for +=: 'int' and 'str'",
     "output_type": "error",
     "traceback": [
      "\u001b[1;31m---------------------------------------------------------------------------\u001b[0m",
      "\u001b[1;31mTypeError\u001b[0m                                 Traceback (most recent call last)",
      "\u001b[1;32m<ipython-input-1-9947f96ce8be>\u001b[0m in \u001b[0;36m<module>\u001b[1;34m\u001b[0m\n\u001b[0;32m      5\u001b[0m     \u001b[0mprint\u001b[0m\u001b[1;33m(\u001b[0m\u001b[0mtotal\u001b[0m\u001b[1;33m)\u001b[0m\u001b[1;33m\u001b[0m\u001b[1;33m\u001b[0m\u001b[0m\n\u001b[0;32m      6\u001b[0m \u001b[0mlist_of_values\u001b[0m\u001b[1;33m=\u001b[0m\u001b[1;33m[\u001b[0m\u001b[1;36m100\u001b[0m\u001b[1;33m,\u001b[0m\u001b[1;36m200\u001b[0m\u001b[1;33m,\u001b[0m\u001b[1;36m300\u001b[0m\u001b[1;33m,\u001b[0m\u001b[1;34m\"400\"\u001b[0m\u001b[1;33m,\u001b[0m\u001b[1;36m500\u001b[0m\u001b[1;33m]\u001b[0m\u001b[1;33m\u001b[0m\u001b[1;33m\u001b[0m\u001b[0m\n\u001b[1;32m----> 7\u001b[1;33m \u001b[0mcalculate_expenditure\u001b[0m\u001b[1;33m(\u001b[0m\u001b[0mlist_of_values\u001b[0m\u001b[1;33m)\u001b[0m\u001b[1;33m\u001b[0m\u001b[1;33m\u001b[0m\u001b[0m\n\u001b[0m",
      "\u001b[1;32m<ipython-input-1-9947f96ce8be>\u001b[0m in \u001b[0;36mcalculate_expenditure\u001b[1;34m(list_of_expenditure)\u001b[0m\n\u001b[0;32m      2\u001b[0m     \u001b[0mtotal\u001b[0m\u001b[1;33m=\u001b[0m\u001b[1;36m0\u001b[0m\u001b[1;33m\u001b[0m\u001b[1;33m\u001b[0m\u001b[0m\n\u001b[0;32m      3\u001b[0m     \u001b[1;32mfor\u001b[0m \u001b[0mexpenditure\u001b[0m \u001b[1;32min\u001b[0m \u001b[0mlist_of_expenditure\u001b[0m\u001b[1;33m:\u001b[0m\u001b[1;33m\u001b[0m\u001b[1;33m\u001b[0m\u001b[0m\n\u001b[1;32m----> 4\u001b[1;33m         \u001b[0mtotal\u001b[0m\u001b[1;33m+=\u001b[0m\u001b[0mexpenditure\u001b[0m\u001b[1;33m\u001b[0m\u001b[1;33m\u001b[0m\u001b[0m\n\u001b[0m\u001b[0;32m      5\u001b[0m     \u001b[0mprint\u001b[0m\u001b[1;33m(\u001b[0m\u001b[0mtotal\u001b[0m\u001b[1;33m)\u001b[0m\u001b[1;33m\u001b[0m\u001b[1;33m\u001b[0m\u001b[0m\n\u001b[0;32m      6\u001b[0m \u001b[0mlist_of_values\u001b[0m\u001b[1;33m=\u001b[0m\u001b[1;33m[\u001b[0m\u001b[1;36m100\u001b[0m\u001b[1;33m,\u001b[0m\u001b[1;36m200\u001b[0m\u001b[1;33m,\u001b[0m\u001b[1;36m300\u001b[0m\u001b[1;33m,\u001b[0m\u001b[1;34m\"400\"\u001b[0m\u001b[1;33m,\u001b[0m\u001b[1;36m500\u001b[0m\u001b[1;33m]\u001b[0m\u001b[1;33m\u001b[0m\u001b[1;33m\u001b[0m\u001b[0m\n",
      "\u001b[1;31mTypeError\u001b[0m: unsupported operand type(s) for +=: 'int' and 'str'"
     ]
    }
   ],
   "source": [
    "# understanding exception\n",
    "\n",
    "def calculate_expenditure(list_of_expenditure):\n",
    "    total=0\n",
    "    for expenditure in list_of_expenditure:\n",
    "        total+=expenditure\n",
    "    print(total)\n",
    "list_of_values=[100,200,300,\"400\",500]\n",
    "calculate_expenditure(list_of_values)"
   ]
  },
  {
   "cell_type": "markdown",
   "metadata": {},
   "source": [
    "In the above code the error is due to addition of string to integer. To overcome this error we can use decision statement \n",
    "\n",
    "if-else. But it will cause further issues."
   ]
  },
  {
   "cell_type": "code",
   "execution_count": 2,
   "metadata": {},
   "outputs": [
    {
     "name": "stdout",
     "output_type": "stream",
     "text": [
      "Wrong data type\n",
      "600\n"
     ]
    }
   ],
   "source": [
    "def calculate_expenditure(list_of_expenditure):\n",
    "    total=0\n",
    "    for expenditure in list_of_expenditure:\n",
    "        if(type(expenditure) is int):\n",
    "            total+=expenditure\n",
    "        else:\n",
    "            print(\"Wrong data type\")\n",
    "            break\n",
    "    print(total)\n",
    "\n",
    "list_of_values=[100,200,300,\"400\",500]\n",
    "calculate_expenditure(list_of_values)"
   ]
  },
  {
   "cell_type": "code",
   "execution_count": 3,
   "metadata": {},
   "outputs": [
    {
     "name": "stdout",
     "output_type": "stream",
     "text": [
      "Some error occured\n",
      "Returning back from function.\n"
     ]
    }
   ],
   "source": [
    "def calculate_expenditure(list_of_expenditure):\n",
    "    total=0\n",
    "    try:\n",
    "        for expenditure in list_of_expenditure:\n",
    "            total+=expenditure\n",
    "        print(total)\n",
    "    except:\n",
    "        print(\"Some error occured\")\n",
    "    print(\"Returning back from function.\")\n",
    "\n",
    "list_of_values=[100,200,300,\"400\",500]\n",
    "calculate_expenditure(list_of_values)"
   ]
  },
  {
   "cell_type": "markdown",
   "metadata": {},
   "source": [
    "# Some of Exception types\n",
    "\n",
    "Built-in Exception            Description                                                               Example\n",
    "\n",
    "-------------------------------------------------------------------------------------------------------------------------------\n",
    "ZeroDivisionError   ---   When number is divided by zero     -------------------------------------     10/0 \n",
    "\n",
    "-------------------------------------------------------------------------------------------------------------------------------\n",
    "\n",
    "TypeError        - ----   When we try to do operation on imcompatible datatypes ------------------    3 + 'a'\n",
    "\n",
    "-------------------------------------------------------------------------------------------------------------------------------\n",
    "\n",
    "NameError        ---- when we try to access variable which is not defined  ------------------ avg=total/10, total is undefined \n",
    "\n",
    "-------------------------------------------------------------------------------------------------------------------------------\n",
    "\n",
    "IndexError   ------ when we try to access an index which is out of range  --------------- lst = [1,2,3] , lst[3] gives error\n",
    "\n",
    "-------------------------------------------------------------------------------------------------------------------------------\n",
    "\n",
    "ValueError  ------ when we pass an invalid value for a built-in function ----------------- int('A') , gives error"
   ]
  },
  {
   "cell_type": "code",
   "execution_count": 1,
   "metadata": {},
   "outputs": [
    {
     "name": "stdout",
     "output_type": "stream",
     "text": [
      "Value Error Occurred\n",
      "Take the card out of ATM\n"
     ]
    }
   ],
   "source": [
    "balance=1000\n",
    "amount=\"300Rs\"\n",
    "def take_card():\n",
    "    print(\"Take the card out of ATM\")\n",
    "try:\n",
    "    if balance>=int(amount):\n",
    "        print(\"Withdraw\")\n",
    "    else:\n",
    "        print(\"Invalid amount\")\n",
    "\n",
    "except TypeError:\n",
    "    print(\"Type Error Occurred\")\n",
    "except ValueError:\n",
    "    print(\"Value Error Occurred\")\n",
    "except:\n",
    "    print(\"Some error Occurred\")\n",
    "finally:\n",
    "    take_card()\n"
   ]
  },
  {
   "cell_type": "code",
   "execution_count": null,
   "metadata": {},
   "outputs": [],
   "source": []
  },
  {
   "cell_type": "code",
   "execution_count": null,
   "metadata": {},
   "outputs": [],
   "source": []
  }
 ],
 "metadata": {
  "kernelspec": {
   "display_name": "Python 3",
   "language": "python",
   "name": "python3"
  },
  "language_info": {
   "codemirror_mode": {
    "name": "ipython",
    "version": 3
   },
   "file_extension": ".py",
   "mimetype": "text/x-python",
   "name": "python",
   "nbconvert_exporter": "python",
   "pygments_lexer": "ipython3",
   "version": "3.8.5"
  }
 },
 "nbformat": 4,
 "nbformat_minor": 4
}
